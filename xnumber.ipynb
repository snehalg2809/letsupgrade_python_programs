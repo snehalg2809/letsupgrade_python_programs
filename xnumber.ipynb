{
 "cells": [
  {
   "cell_type": "markdown",
   "metadata": {},
   "source": [
    "# Assignment no 4"
   ]
  },
  {
   "cell_type": "markdown",
   "metadata": {},
   "source": [
    "Q.4 Write a program to print X prime numbers using while loop starting from 0 and take the input of X from the user"
   ]
  },
  {
   "cell_type": "code",
   "execution_count": null,
   "metadata": {},
   "outputs": [
    {
     "name": "stdout",
     "output_type": "stream",
     "text": [
      "Please enter any number :1000\n",
      "Prime numbers between  0 and 1000 are:\n"
     ]
    }
   ],
   "source": [
    "max=int(input(\"Please enter any number :\"))\n",
    "number=0\n",
    "\n",
    "print(\"Prime numbers between \",0,\"and\",max,\"are:\")\n",
    "while(number <= max):\n",
    " count = 0\n",
    "i=2\n",
    "while(i <= number//2):\n",
    "    if(number % i == 0):\n",
    "        count = count +1\n",
    "        break\n",
    "    i = i+1\n",
    "    \n",
    "    if(count == 0 and number !=1):\n",
    "     print(\"%d\" %number,end=' ')\n",
    "    number = number + 1"
   ]
  },
  {
   "cell_type": "code",
   "execution_count": null,
   "metadata": {},
   "outputs": [],
   "source": [
    "\n"
   ]
  },
  {
   "cell_type": "code",
   "execution_count": null,
   "metadata": {},
   "outputs": [],
   "source": []
  },
  {
   "cell_type": "code",
   "execution_count": null,
   "metadata": {},
   "outputs": [],
   "source": []
  }
 ],
 "metadata": {
  "kernelspec": {
   "display_name": "Python 3",
   "language": "python",
   "name": "python3"
  },
  "language_info": {
   "codemirror_mode": {
    "name": "ipython",
    "version": 3
   },
   "file_extension": ".py",
   "mimetype": "text/x-python",
   "name": "python",
   "nbconvert_exporter": "python",
   "pygments_lexer": "ipython3",
   "version": "3.8.5"
  }
 },
 "nbformat": 4,
 "nbformat_minor": 4
}
