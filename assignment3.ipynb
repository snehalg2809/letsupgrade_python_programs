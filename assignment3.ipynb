{
 "cells": [
  {
   "cell_type": "markdown",
   "metadata": {},
   "source": [
    "# Assignment no 3"
   ]
  },
  {
   "cell_type": "markdown",
   "metadata": {},
   "source": [
    "Q.3 Write a program for printing tables from 1 to 10 using nested loop"
   ]
  },
  {
   "cell_type": "code",
   "execution_count": 1,
   "metadata": {},
   "outputs": [
    {
     "name": "stdout",
     "output_type": "stream",
     "text": [
      "1 tables\n",
      "\n",
      "2 tables\n",
      "\n",
      "3 tables\n",
      "\n",
      "4 tables\n",
      "\n",
      "5 tables\n",
      "\n",
      "6 tables\n",
      "\n",
      "7 tables\n",
      "\n",
      "8 tables\n",
      "\n",
      "9 tables\n",
      "\n",
      "10 tables\n",
      "\n",
      "10 X 1 = 10\n",
      "\n",
      "10 X 2 = 20\n",
      "\n",
      "10 X 3 = 30\n",
      "\n",
      "10 X 4 = 40\n",
      "\n",
      "10 X 5 = 50\n",
      "\n",
      "10 X 6 = 60\n",
      "\n",
      "10 X 7 = 70\n",
      "\n",
      "10 X 8 = 80\n",
      "\n",
      "10 X 9 = 90\n",
      "\n",
      "10 X 10 = 100\n",
      "\n"
     ]
    }
   ],
   "source": [
    "for i in range(1,11):\n",
    "    print(i,'tables')\n",
    "    print()\n",
    "for j in range(1,11):\n",
    "    k = i*j\n",
    "    print(i,'X',j,\"=\",k)\n",
    "    print()"
   ]
  },
  {
   "cell_type": "code",
   "execution_count": null,
   "metadata": {},
   "outputs": [],
   "source": []
  },
  {
   "cell_type": "code",
   "execution_count": null,
   "metadata": {},
   "outputs": [],
   "source": []
  }
 ],
 "metadata": {
  "kernelspec": {
   "display_name": "Python 3",
   "language": "python",
   "name": "python3"
  },
  "language_info": {
   "codemirror_mode": {
    "name": "ipython",
    "version": 3
   },
   "file_extension": ".py",
   "mimetype": "text/x-python",
   "name": "python",
   "nbconvert_exporter": "python",
   "pygments_lexer": "ipython3",
   "version": "3.8.5"
  }
 },
 "nbformat": 4,
 "nbformat_minor": 4
}
