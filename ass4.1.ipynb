{
 "cells": [
  {
   "cell_type": "markdown",
   "metadata": {},
   "source": [
    "# Assignment no.4"
   ]
  },
  {
   "cell_type": "markdown",
   "metadata": {},
   "source": [
    "Q.1 Use IF ELSE and ELIF to write  program in python for your report card."
   ]
  },
  {
   "cell_type": "code",
   "execution_count": 6,
   "metadata": {},
   "outputs": [],
   "source": [
    "marks =75"
   ]
  },
  {
   "cell_type": "code",
   "execution_count": 5,
   "metadata": {},
   "outputs": [
    {
     "name": "stdout",
     "output_type": "stream",
     "text": [
      "Grade -> C\n"
     ]
    }
   ],
   "source": [
    "marks=56\n",
    "if marks > 90:\n",
    "    print(\"Grade -> A+\")\n",
    "elif marks >= 80 and marks <  90:\n",
    "    print(\"Grade -> A\")\n",
    "elif marks >= 70 and marks < 80:\n",
    "    print (\"Grade -> B+\")\n",
    "elif marks >= 60 and marks < 70:\n",
    "    print(\"Grade -> B\")\n",
    "elif marks >= 50 and marks < 60:\n",
    "    print (\"Grade -> C\")\n",
    "elif marks >= 35 and marks< 50:\n",
    "    print(\"Grade ->D\")\n",
    "else:\n",
    "        print(\":failed\")"
   ]
  },
  {
   "cell_type": "code",
   "execution_count": null,
   "metadata": {},
   "outputs": [],
   "source": []
  }
 ],
 "metadata": {
  "kernelspec": {
   "display_name": "Python 3",
   "language": "python",
   "name": "python3"
  },
  "language_info": {
   "codemirror_mode": {
    "name": "ipython",
    "version": 3
   },
   "file_extension": ".py",
   "mimetype": "text/x-python",
   "name": "python",
   "nbconvert_exporter": "python",
   "pygments_lexer": "ipython3",
   "version": "3.8.5"
  }
 },
 "nbformat": 4,
 "nbformat_minor": 4
}
